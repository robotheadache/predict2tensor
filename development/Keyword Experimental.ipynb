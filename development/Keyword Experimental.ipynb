{
 "cells": [
  {
   "cell_type": "code",
   "execution_count": null,
   "metadata": {},
   "outputs": [],
   "source": [
    "with strategy.scope(): \n",
    "    keywordinput = Input(shape=(146), name=\"keyword\")\n",
    "    keywordRepeat = RepeatVector(250) (keywordinput)\n",
    "    keywordLstm = Bidirectional(LSTM(units=500, return_sequences=True))(keywordRepeat) #remembers last input\n",
    "\n",
    "    lstminput = Input(shape=(250, 20), name=\"sequence\")\n",
    "    lstm1 = Bidirectional(LSTM(units=500, recurrent_dropout=0.3, return_sequences=True))(lstminput) #remembers last input\n",
    "    lstm2 = Bidirectional(LSTM(units=250, input_dim=20,recurrent_dropout=0.2, return_sequences = True))(lstm1) #remembers last input\n",
    "    lstm3 = Bidirectional(LSTM(units=100, input_dim=20,recurrent_dropout=0.2, return_sequences = True))(lstm2) #remembers last input\n",
    "    lstm4 = Bidirectional(LSTM(units=50, input_dim=20,recurrent_dropout=0.2, return_sequences = True))(lstm3) #remembers last input\n",
    "\n",
    "    addlayer = concatenate([keywordLstm, lstm4])\n",
    "\n",
    "    output = Dense(8, activation='softmax')(addlayer)\n",
    "    model = Model(inputs=[keywordinput, lstminput], outputs=output, name=\"keyword_model\")\n",
    "    model.summary()\n",
    "    plot_model(model, \"keyword_model.png\", show_shapes=True)\n",
    "    \n",
    "    model.compile(optimizer='adam', loss=\"categorical_crossentropy\", metrics=['accuracy'])\n"
   ]
  },
  {
   "cell_type": "code",
   "execution_count": null,
   "metadata": {},
   "outputs": [],
   "source": [
    "history = model.fit({\"sequence\": a_train, \"keyword\": keywords_train},\n",
    "                    b_train.astype(np.int8),\n",
    "                    batch_size=512,\n",
    "                    validation_split=0.33,\n",
    "                    epochs=10\n",
    "                    )"
   ]
  },
  {
   "cell_type": "code",
   "execution_count": null,
   "metadata": {},
   "outputs": [],
   "source": [
    "def dataPrepareKeywords(parsingDict, someDict, keywords):\n",
    "    keywordsUnmerged = []\n",
    "    for k, i in parsingDict.items():\n",
    "        if k[0] in keywords:\n",
    "            tempBlank = [0 for ent in keywordDict]\n",
    "            for m in keywords[k[0]]:\n",
    "                if m in keywordDict:\n",
    "                    tempBlank[keywordDict[m]] = 1\n",
    "        else:\n",
    "            print(k[0])\n",
    "        #print(k[0])\n",
    "        #print(tempBlank)\n",
    "        #print(\"NEW PROTEIN\")\n",
    "        for j in range(len(i)):\n",
    "            if i[j] not in someDict:\n",
    "                i[j] = someDict['?']\n",
    "            else:\n",
    "                i[j] = someDict[i[j]]\n",
    "        keywordsUnmerged.append(tempBlank)\n",
    "    padded_parsingList = tf.keras.preprocessing.sequence.pad_sequences(\n",
    "        parsingDict.values(), padding=\"post\", value = someDict['?'], maxlen= 250\n",
    "    )\n",
    "    padded_parsingList = padded_parsingList.reshape((padded_parsingList.shape[0], padded_parsingList.shape[1], 1))\n",
    "    padded_parsingList = np_utils.to_categorical(padded_parsingList)\n",
    "    print(padded_parsingList.shape)\n",
    "\n",
    "    return padded_parsingList[:,:, :-1], np.array(keywordsUnmerged)"
   ]
  }
 ],
 "metadata": {
  "kernelspec": {
   "display_name": "Python 3",
   "language": "python",
   "name": "python3"
  },
  "language_info": {
   "codemirror_mode": {
    "name": "ipython",
    "version": 3
   },
   "file_extension": ".py",
   "mimetype": "text/x-python",
   "name": "python",
   "nbconvert_exporter": "python",
   "pygments_lexer": "ipython3",
   "version": "3.8.3"
  }
 },
 "nbformat": 4,
 "nbformat_minor": 4
}
